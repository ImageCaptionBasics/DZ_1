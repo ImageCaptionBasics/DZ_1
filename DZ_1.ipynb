{
 "cells": [
  {
   "cell_type": "code",
   "execution_count": 45,
   "id": "89f0cfd0",
   "metadata": {},
   "outputs": [],
   "source": [
    "# Загружаем библиотеки\n",
    "import cv2 # Компьютерное зрение\n",
    "import numpy as np # Математика\n",
    "import matplotlib.pyplot as plt # Графики\n",
    "from sklearn.metrics import accuracy_score # Метрика качества модели\n",
    "from sklearn.model_selection import train_test_split # Разделение выборки на обучающую и тестовую\n",
    "from sklearn.svm import SVC # Метод опорных векторов"
   ]
  },
  {
   "cell_type": "markdown",
   "id": "69a69ff8",
   "metadata": {},
   "source": [
    "#### Загрузка данных"
   ]
  },
  {
   "cell_type": "code",
   "execution_count": 46,
   "id": "f7a84700",
   "metadata": {},
   "outputs": [],
   "source": [
    "# Обучающая выборка\n",
    "train = np.loadtxt('train.csv', delimiter = ',', skiprows = 1)\n",
    "# Тестовая выборка\n",
    "test = np.loadtxt('test.csv', delimiter = ',', skiprows = 1)"
   ]
  },
  {
   "cell_type": "code",
   "execution_count": 47,
   "id": "c7e191d5",
   "metadata": {},
   "outputs": [],
   "source": [
    "# Сохраняем разметку обучающей выборки в отдельную переменную\n",
    "train_label = train[:, 0]"
   ]
  },
  {
   "cell_type": "code",
   "execution_count": 48,
   "id": "d79e08d6",
   "metadata": {},
   "outputs": [],
   "source": [
    "# Создаём массив с полными картинками 28х28\n",
    "train_img_full = np.resize(train[:, 1:], (train.shape[0], 28, 28))\n",
    "# Создаём многомерный массив с размерностями:\n",
    "# - количество исходных картинок\n",
    "# - количество фрагментов каждой картинки\n",
    "# - количество пикселей по горизонтали и вертикали в каждом фрагменте\n",
    "train_img = np.zeros((train_img_full.shape[0], 4, 14, 14))"
   ]
  },
  {
   "cell_type": "code",
   "execution_count": 49,
   "id": "dcac375b",
   "metadata": {},
   "outputs": [],
   "source": [
    "# Разбиваем исходные картинки 28х28 на четверти (14х14)\n",
    "for i in range(train_img_full.shape[0]):\n",
    "    train_img[i][0] = train_img_full[i, :14, :14]\n",
    "    train_img[i][1] = train_img_full[i, :14, 14:]    \n",
    "    train_img[i][2] = train_img_full[i, 14:, :14]          \n",
    "    train_img[i][3] = train_img_full[i, 14:, 14:]            "
   ]
  },
  {
   "cell_type": "code",
   "execution_count": 50,
   "id": "3d2fd70d",
   "metadata": {},
   "outputs": [],
   "source": [
    "test_img_full = np.resize(test, (test.shape[0], 28, 28))\n",
    "test_img = np.zeros((test_img_full.shape[0], 4, 14, 14))\n",
    "for i in range(test_img_full.shape[0]):\n",
    "    test_img[i][0] = test_img_full[i, :14, :14]\n",
    "    test_img[i][1] = test_img_full[i, :14, 14:]    \n",
    "    test_img[i][2] = test_img_full[i, 14:, :14]          \n",
    "    test_img[i][3] = test_img_full[i, 14:, 14:]  "
   ]
  },
  {
   "cell_type": "markdown",
   "id": "44be2fc6",
   "metadata": {},
   "source": [
    "#### Вычисляем X и Y составляющие градиента с помощью оператора Собеля"
   ]
  },
  {
   "cell_type": "code",
   "execution_count": 51,
   "id": "f8cac2e3",
   "metadata": {},
   "outputs": [],
   "source": [
    "train_sobel_x = np.zeros_like(train_img)\n",
    "train_sobel_y = np.zeros_like(train_img)\n",
    "for i in range(train_img.shape[0]):\n",
    "    for j in range(train_img.shape[1]):\n",
    "        train_sobel_x[i][j] = cv2.Sobel(train_img[i][j], cv2.CV_64F, dx=1, dy=0, ksize=3)\n",
    "        train_sobel_y[i][j] = cv2.Sobel(train_img[i][j], cv2.CV_64F, dx=0, dy=1, ksize=3)"
   ]
  },
  {
   "cell_type": "code",
   "execution_count": 52,
   "id": "9f87c458",
   "metadata": {},
   "outputs": [],
   "source": [
    "test_sobel_x = np.zeros_like(test_img)\n",
    "test_sobel_y = np.zeros_like(test_img)\n",
    "for i in range(test_img.shape[0]):\n",
    "    for j in range(test_img.shape[1]):\n",
    "        test_sobel_x[i][j] = cv2.Sobel(test_img[i][j], cv2.CV_64F, dx=1, dy=0, ksize=3)\n",
    "        test_sobel_y[i][j] = cv2.Sobel(test_img[i][j], cv2.CV_64F, dx=0, dy=1, ksize=3)"
   ]
  },
  {
   "cell_type": "markdown",
   "id": "9ea88521",
   "metadata": {},
   "source": [
    "#### Вычисляем угол и длину вектора градиента"
   ]
  },
  {
   "cell_type": "code",
   "execution_count": 64,
   "id": "eb3fa12e",
   "metadata": {},
   "outputs": [],
   "source": [
    "train_g = np.zeros_like(train_img)\n",
    "train_theta = np.zeros_like(train_img)\n",
    "for i in range(train_img.shape[0]):\n",
    "    for j in range(train_img.shape[1]):\n",
    "        train_g[i][j], train_theta[i][j] = cv2.cartToPolar(train_sobel_x[i][j], train_sobel_y[i][j])"
   ]
  },
  {
   "cell_type": "code",
   "execution_count": 65,
   "id": "f3e4fef1",
   "metadata": {},
   "outputs": [],
   "source": [
    "test_g = np.zeros_like(test_img)\n",
    "test_theta = np.zeros_like(test_img)\n",
    "for i in range(test_img.shape[0]):\n",
    "    for j in range(test_img.shape[1]):\n",
    "        test_g[i][j], test_theta[i][j] = cv2.cartToPolar(test_sobel_x[i][j], test_sobel_y[i][j])"
   ]
  },
  {
   "cell_type": "markdown",
   "id": "4f550be0",
   "metadata": {},
   "source": [
    "#### Вычисляем гистограммы градиентов"
   ]
  },
  {
   "cell_type": "code",
   "execution_count": 66,
   "id": "dbeb77ad",
   "metadata": {},
   "outputs": [],
   "source": [
    "train_hist = np.zeros((train_img.shape[0], train_img.shape[1], 16))\n",
    "for i in range(train_img.shape[0]):\n",
    "    for j in range(train_img.shape[1]):    \n",
    "        hist, borders = np.histogram(train_theta[i][j],\n",
    "                                     bins=16,\n",
    "                                     range=(0., 2. * np.pi),\n",
    "                                     weights=train_g[i][j])\n",
    "        train_hist[i][j] = hist"
   ]
  },
  {
   "cell_type": "code",
   "execution_count": 67,
   "id": "8e601d37",
   "metadata": {},
   "outputs": [],
   "source": [
    "test_hist = np.zeros((test_img.shape[0], test_img.shape[1], 16))\n",
    "for i in range(test_img.shape[0]):\n",
    "    for j in range(test_img.shape[1]):    \n",
    "        hist, borders = np.histogram(test_theta[i][j],\n",
    "                                     bins=16,\n",
    "                                     range=(0., 2. * np.pi),\n",
    "                                     weights=test_g[i][j])\n",
    "        test_hist[i][j] = hist"
   ]
  },
  {
   "cell_type": "markdown",
   "id": "96d1f65d",
   "metadata": {},
   "source": [
    "#### Разбиваем выборку на обучение и валидацию"
   ]
  },
  {
   "cell_type": "code",
   "execution_count": 68,
   "id": "a80b8e18",
   "metadata": {},
   "outputs": [],
   "source": [
    "y_train, y_val, X_train, X_val = train_test_split(train_label, train_hist, test_size=0.2, random_state=42)"
   ]
  },
  {
   "cell_type": "code",
   "execution_count": 69,
   "id": "74da2eee",
   "metadata": {},
   "outputs": [],
   "source": [
    "# Компонуем все гистограммы для отдельных фрагментов изображения в одну длинную гистограмму - это вектор признаков\n",
    "X_train_flatten = np.resize(X_train, (X_train.shape[0], (X_train.shape[1]*X_train.shape[2])))\n",
    "X_val_flatten = np.resize(X_val, (X_val.shape[0], (X_val.shape[1]*X_val.shape[2])))"
   ]
  },
  {
   "cell_type": "markdown",
   "id": "47766a1f",
   "metadata": {},
   "source": [
    "#### Для классификации используем метод опорных векторов (SVM)"
   ]
  },
  {
   "cell_type": "code",
   "execution_count": 70,
   "id": "c1579111",
   "metadata": {},
   "outputs": [],
   "source": [
    "# Объявляем модель с использованием метода опорных векторов, функция полиномиальная\n",
    "model = SVC(gamma = 'auto', kernel = 'poly', degree = 3)"
   ]
  },
  {
   "cell_type": "code",
   "execution_count": 71,
   "id": "51fe7452",
   "metadata": {},
   "outputs": [
    {
     "data": {
      "text/plain": [
       "SVC(gamma='auto', kernel='poly')"
      ]
     },
     "execution_count": 71,
     "metadata": {},
     "output_type": "execute_result"
    }
   ],
   "source": [
    "# Обучаем модель на обучающей выборке\n",
    "model.fit(X_train_flatten, y_train)"
   ]
  },
  {
   "cell_type": "markdown",
   "id": "14379552",
   "metadata": {},
   "source": [
    "#### Оцениваем качество на валидационной выборке"
   ]
  },
  {
   "cell_type": "code",
   "execution_count": 72,
   "id": "ea746c5d",
   "metadata": {},
   "outputs": [
    {
     "name": "stdout",
     "output_type": "stream",
     "text": [
      "Accuracy: 0.9658333333333333\n"
     ]
    }
   ],
   "source": [
    "# Валидация\n",
    "print('Accuracy: %s' % accuracy_score(y_val, model.predict(X_val_flatten)))"
   ]
  },
  {
   "cell_type": "markdown",
   "id": "9c8ab093",
   "metadata": {},
   "source": [
    "#### Предсказания на тестовыйх данных"
   ]
  },
  {
   "cell_type": "code",
   "execution_count": 93,
   "id": "d44caf06",
   "metadata": {},
   "outputs": [],
   "source": [
    "test_hist_flatten = np.resize(test_hist, (test_hist.shape[0], (test_hist.shape[1]*test_hist.shape[2])))\n",
    "pred_test = np.zeros(len(test_img), np.int8)\n",
    "pred_test = model.predict(test_hist_flatten)"
   ]
  },
  {
   "cell_type": "code",
   "execution_count": 95,
   "id": "149df075",
   "metadata": {},
   "outputs": [],
   "source": [
    "with open('submit.txt', 'w') as dst:\n",
    "    dst.write('ImageId,Label\\n')\n",
    "    for i, p in enumerate(pred_test.astype(int), 1):\n",
    "        dst.write('%s,%s\\n' % (i, p))"
   ]
  },
  {
   "cell_type": "markdown",
   "id": "0263fbcc",
   "metadata": {},
   "source": [
    "#### Результат на Kaggle"
   ]
  },
  {
   "cell_type": "markdown",
   "id": "673bb245",
   "metadata": {},
   "source": [
    "0.96450"
   ]
  }
 ],
 "metadata": {
  "kernelspec": {
   "display_name": "Python 3",
   "language": "python",
   "name": "python3"
  },
  "language_info": {
   "codemirror_mode": {
    "name": "ipython",
    "version": 3
   },
   "file_extension": ".py",
   "mimetype": "text/x-python",
   "name": "python",
   "nbconvert_exporter": "python",
   "pygments_lexer": "ipython3",
   "version": "3.8.8"
  }
 },
 "nbformat": 4,
 "nbformat_minor": 5
}
